{
 "cells": [
  {
   "cell_type": "markdown",
   "metadata": {},
   "source": [
    "# <center> Resolvendo o problema de Maximal Independent Set com PLI.\n",
    "    \n",
    "## <center> Carolina Monteiro e José Arthur\n",
    "\n",
    "## <center> Abril de 2022"
   ]
  },
  {
   "cell_type": "markdown",
   "metadata": {},
   "source": [
    "## Definições:"
   ]
  },
  {
   "cell_type": "markdown",
   "metadata": {},
   "source": [
    " Diremos que dois vértices são independentes quando eles não são vizinhos um do outro, isto é, quando não há aresta que os una."
   ]
  },
  {
   "cell_type": "markdown",
   "metadata": {},
   "source": [
    " Um conjunto independente de um grafo é um conjunto de vértices tal que todos os vértices contidos nele são independentes."
   ]
  },
  {
   "cell_type": "markdown",
   "metadata": {},
   "source": [
    " O problema de Maximal Independent Set, ou Conjunto Independente Máximo, consiste em, dado um grafo, encontrar o conjunto independente que contém os vértices com a maior soma de pesos. Neste trabalho, vamos resolver este problema com Programação Linear Inteira."
   ]
  },
  {
   "cell_type": "markdown",
   "metadata": {},
   "source": [
    "## Modelando o problema"
   ]
  },
  {
   "cell_type": "markdown",
   "metadata": {},
   "source": [
    " Primeiro, tendo o grafo, construimos a matriz A de adjacência entre os vértices como abaixo (isso exige alguma ordenação entre os vértices, que é arbitráaria, mas será  mesma usada para todo o resto da modelagem):"
   ]
  },
  {
   "cell_type": "markdown",
   "metadata": {},
   "source": [
    "$$A=\n",
    "\\begin{bmatrix}\n",
    "a_{11}& a_{12} & ... & a_{1n} \\\\\n",
    "a_{21}& a_{22} & ... & a_{2n} \\\\\n",
    "\\vdots& \\vdots & \\ddots & \\vdots \\\\\n",
    "a_{n1}& a_{n2} & ... & a_{nn} \\\\\n",
    "\\end{bmatrix}$$ ,"
   ]
  },
  {
   "cell_type": "markdown",
   "metadata": {},
   "source": [
    "$$ \\mbox{onde } a_{ij}=\n",
    "\\begin{cases} \n",
    "1, & \\mbox{se } v_i \\mbox{ e } v_j \\mbox{ são adjacentes;} \\\\\n",
    "0, & \\mbox{se não.}\n",
    "\\end{cases}\n",
    "$$"
   ]
  },
  {
   "cell_type": "markdown",
   "metadata": {},
   "source": [
    " Construímos o vetor P de pesos, segundo a ordenação que fizemos ao construir  matriz. O i-ésimo elemento do vetor corresponde ao peso do vértice i."
   ]
  },
  {
   "cell_type": "markdown",
   "metadata": {},
   "source": [
    "$$P=\n",
    "\\begin{bmatrix}\n",
    "p_1 \\\\\n",
    "p_2 \\\\\n",
    "\\vdots \\\\\n",
    "p_n\n",
    "\\end{bmatrix}$$"
   ]
  },
  {
   "cell_type": "markdown",
   "metadata": {},
   "source": [
    " A matriz A e o vetor P são constantes."
   ]
  },
  {
   "cell_type": "markdown",
   "metadata": {},
   "source": [
    " Criamos  também um vetor N de variáveis binárias $n_i$, descritas abaixo:"
   ]
  },
  {
   "cell_type": "markdown",
   "metadata": {},
   "source": [
    "$$N=\\begin{bmatrix}\n",
    "n_1 \\\\\n",
    "n_2 \\\\\n",
    "\\vdots \\\\\n",
    "n_n\n",
    "\\end{bmatrix}$$"
   ]
  },
  {
   "cell_type": "markdown",
   "metadata": {},
   "source": [
    "$$ \\mbox{onde } n_i=\n",
    "\\begin{cases} \n",
    "1, & \\mbox{se } v_i \\mbox{ faz parte do conjunto independente;} \\\\\n",
    "0, & \\mbox{se não.}\n",
    "\\end{cases}\n",
    "$$"
   ]
  },
  {
   "cell_type": "markdown",
   "metadata": {},
   "source": [
    " Desta maneira, podemos multiplicar M por n e conseguir:"
   ]
  },
  {
   "cell_type": "markdown",
   "metadata": {},
   "source": [
    "$$MN=\\begin{bmatrix}\n",
    "m_1 \\\\\n",
    "m_2 \\\\\n",
    "\\vdots \\\\\n",
    "m_n\n",
    "\\end{bmatrix}$$"
   ]
  },
  {
   "cell_type": "markdown",
   "metadata": {},
   "source": [
    "$$ \\mbox{onde } m_i = \\sum _{j=1}^{n} \\mathbb{1} \\{ a_{ij} \\in N \\}$$"
   ]
  },
  {
   "cell_type": "markdown",
   "metadata": {},
   "source": [
    " e $\\mathbb{1} \\{ a_{ij} \\in N \\}$ é a variável indicadora que assume o valor 1 quando $a_{ij}$ pertence a N, isto é, quando faz parte do conjunto independente.\n",
    "\n",
    " Notemos que $m_i$ denota o número de vizinhos do vértice i que pertencem a N. Queremos que um elemento do conjunto não tenha nenhum vizinho dentro do conjunto também, o que pode ser traduzido por:"
   ]
  },
  {
   "cell_type": "markdown",
   "metadata": {},
   "source": [
    "$$<MN,N>=0$$"
   ]
  },
  {
   "cell_type": "markdown",
   "metadata": {},
   "source": [
    " Quando o i-ésimo elemento de N for igual a 1, ou seja, quando o i-ésimo vértice pertencer ao conjunto, queremos que o número de vizinhos dele seja zero. Nesse caso o $N_i * m_i = 0$. Quando o i-ésimo elemento de N for igual a 0, tanto faz o número de vizinhos dele, mas $N_i * m_i = 0$ também. Esntão no fim das contas, queremos que $N_i * m_i = 0$ sempre e  aí $<MN,N>=0$. "
   ]
  },
  {
   "cell_type": "markdown",
   "metadata": {},
   "source": [
    "$$<MN,N>=0 \\Longleftrightarrow \\sum _{i=1}^{n} (a_{i1}*N_1 + a_{i2}*N_2+ ... + a_{in}*N_n)*N_i = 0$$"
   ]
  },
  {
   "cell_type": "markdown",
   "metadata": {},
   "source": [
    " Como todas as variáveis envolvidas são binárias, os produtos aí escritos são todos iguais a 1 ou a 0. Como a soma de tudo deve dar 0, então cada um dos termos deve ser igual a 0. "
   ]
  },
  {
   "cell_type": "markdown",
   "metadata": {},
   "source": [
    "$$\\sum _{i=1}^{n} (a_{i1}*N_1 + a_{i2}*N_2+ ... + a_{in}*N_n)*N_i = 0 \\Longleftrightarrow a_{ij}*N_j*N_i=0, \\forall i \\in [n], \\forall j \\in [n]$$"
   ]
  },
  {
   "cell_type": "markdown",
   "metadata": {},
   "source": [
    "$$[n]={1,2,3,...,n}$$"
   ]
  },
  {
   "cell_type": "markdown",
   "metadata": {},
   "source": [
    " Mais uma vez, como todas as variáveis envolvidas são binárias, um produto desses ser igual a 0 é o equivalente a alguma delas ser igual a 0. Mas se uma delas é igual a 0, então a soma deve ser menor ou igual a 2 (caso contrário a soma teria que ser 3 ou mais, mas isso só seria possível com todas as variáveis iguais a 1, pois todos os produtos são entre três variáveis):"
   ]
  },
  {
   "cell_type": "markdown",
   "metadata": {},
   "source": [
    "$$ a_{ij}*N_j*N_i=0, \\Longleftrightarrow a_{ij} + N_j + N_i \\leq 2$$"
   ]
  },
  {
   "cell_type": "markdown",
   "metadata": {},
   "source": [
    " Assim, por fim, nossas restrições são do tipo:"
   ]
  },
  {
   "cell_type": "markdown",
   "metadata": {},
   "source": [
    "$$a_{ij} + N_j + N_i \\leq 2, \\forall i \\in [n], \\forall j \\in [n] $$"
   ]
  },
  {
   "cell_type": "markdown",
   "metadata": {},
   "source": [
    " E o problema pode ser escrito como:"
   ]
  },
  {
   "cell_type": "markdown",
   "metadata": {},
   "source": [
    "$$max \\{ <N,P> \\}$$\n",
    "\n",
    "$$ \\mbox{Sujeito à: } a_{ij} + N_j + N_i \\leq 2, \\forall i \\in [n], \\forall j \\in [n] $$"
   ]
  },
  {
   "cell_type": "markdown",
   "metadata": {},
   "source": [
    "Como exemplo, temos o grafo abaixo, com os pesos já definidos:"
   ]
  },
  {
   "attachments": {
    "MIS.png": {
     "image/png": "[encoded data removed]"
    }
   },
   "cell_type": "markdown",
   "metadata": {},
   "source": [
    "![MIS.png](attachment:MIS.png)"
   ]
  },
  {
   "cell_type": "markdown",
   "metadata": {},
   "source": [
    "Para facilitar o entendimento, vamos numerar os nós:"
   ]
  },
  {
   "attachments": {
    "MIS2.png": {
     "image/png": "[encoded data removed]"
    }
   },
   "cell_type": "markdown",
   "metadata": {},
   "source": [
    "![MIS2.png](attachment:MIS2.png)"
   ]
  },
  {
   "cell_type": "markdown",
   "metadata": {},
   "source": [
    "Com esses índices, a matriz de adjacências será"
   ]
  },
  {
   "cell_type": "markdown",
   "metadata": {},
   "source": [
    "\n",
    "$ A =  \\begin{bmatrix}\n",
    "    0 & 1 & 0 & 1 & 0 & 0 & 0 \\\\\n",
    "    1 & 0 & 1 & 1 & 1 & 1 & 0 \\\\\n",
    "    0 & 1 & 0 & 0 & 0 & 1 & 1 \\\\\n",
    "    1 & 1 & 0 & 0 & 1 & 0 & 1 \\\\\n",
    "    0 & 1 & 0 & 1 & 0 & 0 & 0 \\\\\n",
    "    0 & 1 & 1 & 0 & 0 & 0 & 0 \\\\\n",
    "    0 & 0 & 1 & 1 & 0 & 0 & 0 \\\\\n",
    "\\end{bmatrix}  $,\n",
    "\n",
    "e o vetor de pesos será $ P = \\begin{bmatrix}\n",
    "1 & 3 & 2 & 2 & 1 & 5 & 2\n",
    "\\end{bmatrix}'.\n",
    "$"
   ]
  },
  {
   "cell_type": "markdown",
   "metadata": {},
   "source": [
    "Agora implementaremos nosso modelo, da forma como definimos acima."
   ]
  },
  {
   "cell_type": "code",
   "execution_count": 3,
   "metadata": {},
   "outputs": [],
   "source": [
    "using JuMP\n",
    "using GLPK"
   ]
  },
  {
   "cell_type": "code",
   "execution_count": 10,
   "metadata": {},
   "outputs": [],
   "source": [
    "function Maximal_Independent_Set(A,P,n)\n",
    "    m = Model(GLPK.Optimizer)\n",
    "    @variable(m, N[i = 1:n], Bin) #se o nó i entra no M_I_S ou não\n",
    "    @constraint(m, C[i=1:n,j=1:n], A[i,j] + N[i] + N[j] <= 2)\n",
    "    @objective(m, Max, P'N)\n",
    "    optimize!(m)\n",
    "    return(m)\n",
    "end;"
   ]
  },
  {
   "cell_type": "code",
   "execution_count": 11,
   "metadata": {},
   "outputs": [],
   "source": [
    "A = [\n",
    "    0 1 0 1 0 0 0\n",
    "    1 0 1 1 1 1 0\n",
    "    0 1 0 0 0 1 1\n",
    "    1 1 0 0 1 0 1\n",
    "    0 1 0 1 0 0 0\n",
    "    0 1 1 0 0 0 0\n",
    "    0 0 1 1 0 0 0\n",
    "]  \n",
    "P = [1,3,2,2,1,5,2]; "
   ]
  },
  {
   "cell_type": "code",
   "execution_count": 12,
   "metadata": {},
   "outputs": [],
   "source": [
    "modelo = Maximal_Independent_Set(A,P,7);"
   ]
  },
  {
   "cell_type": "code",
   "execution_count": 13,
   "metadata": {},
   "outputs": [
    {
     "name": "stdout",
     "output_type": "stream",
     "text": [
      "objective_value(modelo) = 9.0\n"
     ]
    }
   ],
   "source": [
    "@show objective_value(modelo);"
   ]
  },
  {
   "cell_type": "code",
   "execution_count": 14,
   "metadata": {},
   "outputs": [
    {
     "name": "stdout",
     "output_type": "stream",
     "text": [
      "value.(modelo[:N]) = [1.0, 0.0, 0.0, 0.0, 1.0, 1.0, 1.0]\n"
     ]
    }
   ],
   "source": [
    "@show value.(modelo[:N]);"
   ]
  },
  {
   "cell_type": "markdown",
   "metadata": {},
   "source": [
    "O valor ótimo da função objetivo é $9$ e o Conjunto Independente Máximo é $\\{1,5,6,7\\}$."
   ]
  },
  {
   "attachments": {
    "MIS3.png": {
     "image/png": "[encoded data removed]"
    }
   },
   "cell_type": "markdown",
   "metadata": {},
   "source": [
    "![MIS3.png](attachment:MIS3.png)"
   ]
  }
 ],
 "metadata": {
  "kernelspec": {
   "display_name": "Julia 1.7.0",
   "language": "julia",
   "name": "julia-1.7"
  },
  "language_info": {
   "file_extension": ".jl",
   "mimetype": "application/julia",
   "name": "julia",
   "version": "1.7.0"
  }
 },
 "nbformat": 4,
 "nbformat_minor": 4
}
